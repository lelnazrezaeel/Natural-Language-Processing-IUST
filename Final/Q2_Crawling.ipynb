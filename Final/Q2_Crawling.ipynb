{
  "nbformat": 4,
  "nbformat_minor": 0,
  "metadata": {
    "colab": {
      "provenance": []
    },
    "kernelspec": {
      "name": "python3",
      "display_name": "Python 3"
    },
    "language_info": {
      "name": "python"
    }
  },
  "cells": [
    {
      "cell_type": "markdown",
      "source": [
        "Find all answers in the following link and print them.(You have no restrictions on using different tools.)\n",
        "\n",
        "If you want to use a tool that does not work in the colab, zip your projects and upload it."
      ],
      "metadata": {
        "id": "XxIAQgT9jFUt"
      }
    },
    {
      "cell_type": "code",
      "execution_count": 11,
      "metadata": {
        "id": "hKUrIYCzi_e2"
      },
      "outputs": [],
      "source": [
        "link = 'https://meta.stackoverflow.com/questions/421831/temporary-policy-chatgpt-is-banned#:~:text=ChatGPT%20is%20an%20Artificial%20Intelligence,rules'"
      ]
    }
  ]
}